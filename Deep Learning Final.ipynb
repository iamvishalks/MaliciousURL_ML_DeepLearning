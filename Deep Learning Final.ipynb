{
 "cells": [
  {
   "cell_type": "code",
   "execution_count": null,
   "id": "138e3360",
   "metadata": {},
   "outputs": [],
   "source": [
    "\n",
    "%matplotlib inline\n",
    "import pandas as pd\n",
    "import numpy as np\n",
    "from pandas_profiling import ProfileReport\n",
    "import plotly.express as px\n",
    "\n",
    "import seaborn as sns\n",
    "import matplotlib.pyplot as plt\n",
    "\n",
    "\n",
    "\n",
    "import pandas as pd\n",
    "import numpy as np\n",
    "\n"
   ]
  },
  {
   "cell_type": "code",
   "execution_count": null,
   "id": "f031d781",
   "metadata": {},
   "outputs": [],
   "source": [
    "\n",
    "def plot_history(history):\n",
    "    plt.figure()\n",
    "    plt.xlabel('Epoch')\n",
    "    plt.ylabel('Loss')\n",
    "    plt.plot(history.epoch, np.array(history.history['loss']), \n",
    "           label='Train')\n",
    "    plt.plot(history.epoch, np.array(history.history['val_loss']),\n",
    "           label = 'Val')\n",
    "    plt.legend()\n",
    "    plt.ylim([0,max(history.history['val_loss'])])\n",
    "    plt.savefig(\"History ANN.eps\", format = 'eps')"
   ]
  },
  {
   "cell_type": "code",
   "execution_count": null,
   "id": "43ee5717",
   "metadata": {},
   "outputs": [],
   "source": [
    "def plot_history2(history):\n",
    "    plt.figure()\n",
    "    plt.xlabel('Epoch')\n",
    "    plt.ylabel('Accuracy')\n",
    "    plt.plot(history.epoch, np.array(history.history['accuracy']), \n",
    "           label='Train')\n",
    "    plt.plot(history.epoch, np.array(history.history['val_accuracy']),\n",
    "           label = 'Val')\n",
    "    plt.legend()\n",
    "    plt.ylim([0,max(history.history['val_accuracy'])])\n",
    "    plt.savefig(\"history_cnn.png\")"
   ]
  },
  {
   "cell_type": "code",
   "execution_count": null,
   "id": "0b3088db",
   "metadata": {},
   "outputs": [],
   "source": [
    "df1 = pd.read_csv(\"Super_new_99.csv\")"
   ]
  },
  {
   "cell_type": "code",
   "execution_count": null,
   "id": "7d30bb5e",
   "metadata": {
    "scrolled": false
   },
   "outputs": [],
   "source": [
    "df1.head()"
   ]
  },
  {
   "cell_type": "code",
   "execution_count": null,
   "id": "6054e3ae",
   "metadata": {},
   "outputs": [],
   "source": [
    "profile = ProfileReport(df1, title = \"Report\", explorative = \"true\")"
   ]
  },
  {
   "cell_type": "code",
   "execution_count": null,
   "id": "9fe42a70",
   "metadata": {},
   "outputs": [],
   "source": [
    "profile.to_file(\"output.html\")"
   ]
  },
  {
   "cell_type": "code",
   "execution_count": null,
   "id": "f304d49d",
   "metadata": {},
   "outputs": [],
   "source": [
    "del df1['url']"
   ]
  },
  {
   "cell_type": "code",
   "execution_count": null,
   "id": "4bce5194",
   "metadata": {},
   "outputs": [],
   "source": [
    "del df1['label']"
   ]
  },
  {
   "cell_type": "code",
   "execution_count": null,
   "id": "bdf89307",
   "metadata": {},
   "outputs": [],
   "source": [
    "df1"
   ]
  },
  {
   "cell_type": "code",
   "execution_count": null,
   "id": "1ee15862",
   "metadata": {},
   "outputs": [],
   "source": [
    "df2 = df1.iloc[: , 0:1]"
   ]
  },
  {
   "cell_type": "code",
   "execution_count": null,
   "id": "e5b5e1ad",
   "metadata": {
    "scrolled": false
   },
   "outputs": [],
   "source": [
    "df2"
   ]
  },
  {
   "cell_type": "code",
   "execution_count": null,
   "id": "c69fb1d2",
   "metadata": {},
   "outputs": [],
   "source": [
    "del df1['result']"
   ]
  },
  {
   "cell_type": "code",
   "execution_count": null,
   "id": "955e99bd",
   "metadata": {
    "scrolled": true
   },
   "outputs": [],
   "source": [
    "df1"
   ]
  },
  {
   "cell_type": "code",
   "execution_count": null,
   "id": "5d856168",
   "metadata": {},
   "outputs": [],
   "source": [
    "y = df2.iloc[: , 0:1].values"
   ]
  },
  {
   "cell_type": "code",
   "execution_count": null,
   "id": "7f48dd83",
   "metadata": {
    "scrolled": true
   },
   "outputs": [],
   "source": [
    "print(y)"
   ]
  },
  {
   "cell_type": "code",
   "execution_count": null,
   "id": "36a14e6a",
   "metadata": {
    "scrolled": true
   },
   "outputs": [],
   "source": [
    "df1.shape"
   ]
  },
  {
   "cell_type": "code",
   "execution_count": null,
   "id": "bb658f64",
   "metadata": {},
   "outputs": [],
   "source": [
    "[df1.dtypes]"
   ]
  },
  {
   "cell_type": "markdown",
   "id": "bef98b4f",
   "metadata": {},
   "source": [
    "# Features Selection"
   ]
  },
  {
   "cell_type": "code",
   "execution_count": null,
   "id": "6c96f3f9",
   "metadata": {
    "scrolled": false
   },
   "outputs": [],
   "source": [
    "from sklearn.feature_selection import VarianceThreshold\n",
    "\n",
    "var_trash = VarianceThreshold(threshold = (0.02))\n",
    "var_trash.fit(df1)\n",
    "\n",
    "var_trash.get_support()\n",
    "\n",
    "#No Zero Variance"
   ]
  },
  {
   "cell_type": "markdown",
   "id": "857ab70d",
   "metadata": {},
   "source": [
    "### Correlation\n"
   ]
  },
  {
   "cell_type": "code",
   "execution_count": null,
   "id": "7e8bd818",
   "metadata": {
    "scrolled": false
   },
   "outputs": [],
   "source": [
    "%matplotlib inline\n",
    "plt.figure(figsize=(12,10))\n",
    "cor = df1.corr()\n",
    "sns.heatmap(cor,annot=True,cmap = plt.cm.CMRmap_r)\n",
    "plt.show()\n",
    "plt.savefig(\"correlation.eps\", format = 'eps')"
   ]
  },
  {
   "cell_type": "code",
   "execution_count": null,
   "id": "a4ea7d81",
   "metadata": {},
   "outputs": [],
   "source": [
    "def correlation(dataset, threshold):\n",
    "  col_corr = set()\n",
    "  corr_matrix=dataset.corr()\n",
    "  for i in range(len(corr_matrix.columns)):\n",
    "    for j in range(i):\n",
    "      if abs(corr_matrix.iloc[i,j]) > threshold:\n",
    "        colname = corr_matrix.columns[i]\n",
    "        col_corr.add(colname)\n",
    "  \n",
    "  return col_corr"
   ]
  },
  {
   "cell_type": "code",
   "execution_count": null,
   "id": "a99b99dd",
   "metadata": {},
   "outputs": [],
   "source": [
    "corr_feature = correlation(df1,0.85)\n",
    "\n",
    "corr_feature"
   ]
  },
  {
   "cell_type": "code",
   "execution_count": null,
   "id": "711927ee",
   "metadata": {},
   "outputs": [],
   "source": [
    "del df1[\"count-letters\"]\n"
   ]
  },
  {
   "cell_type": "code",
   "execution_count": null,
   "id": "2db5f1b3",
   "metadata": {
    "scrolled": true
   },
   "outputs": [],
   "source": [
    "df1"
   ]
  },
  {
   "cell_type": "code",
   "execution_count": null,
   "id": "797c6493",
   "metadata": {
    "scrolled": false
   },
   "outputs": [],
   "source": [
    "plt.figure(figsize=(12,10))\n",
    "cor = df1.corr()\n",
    "sns.heatmap(cor,annot=True,cmap = plt.cm.CMRmap_r)\n",
    "plt.show()\n",
    "plt.savefig(\"correlation_after.eps\", format = 'eps')"
   ]
  },
  {
   "cell_type": "code",
   "execution_count": null,
   "id": "ad9a66ac",
   "metadata": {},
   "outputs": [],
   "source": [
    "df1.to_csv('selected_features.csv', index=False) "
   ]
  },
  {
   "cell_type": "code",
   "execution_count": null,
   "id": "4d77deb8",
   "metadata": {},
   "outputs": [],
   "source": [
    "x = df1.iloc[: , :].values"
   ]
  },
  {
   "cell_type": "code",
   "execution_count": null,
   "id": "b5dd84e0",
   "metadata": {
    "scrolled": true
   },
   "outputs": [],
   "source": [
    "x.shape"
   ]
  },
  {
   "cell_type": "code",
   "execution_count": null,
   "id": "09a9a23a",
   "metadata": {},
   "outputs": [],
   "source": [
    "df1.shape"
   ]
  },
  {
   "cell_type": "code",
   "execution_count": null,
   "id": "9bad6e8e",
   "metadata": {},
   "outputs": [],
   "source": [
    "x = x.astype(np.float32)"
   ]
  },
  {
   "cell_type": "markdown",
   "id": "0441ca8b",
   "metadata": {},
   "source": [
    "# Train - Test Split "
   ]
  },
  {
   "cell_type": "code",
   "execution_count": null,
   "id": "500c99b3",
   "metadata": {},
   "outputs": [],
   "source": [
    "from sklearn.model_selection import train_test_split\n",
    "x_train, x_test, y_train, y_test = train_test_split(x, y, test_size = 0.2, random_state = 1)"
   ]
  },
  {
   "cell_type": "markdown",
   "id": "a1005ffe",
   "metadata": {},
   "source": [
    "# Feature Scaling "
   ]
  },
  {
   "cell_type": "code",
   "execution_count": null,
   "id": "4bbaa3a2",
   "metadata": {},
   "outputs": [],
   "source": [
    "from sklearn.preprocessing import StandardScaler\n",
    "sc = StandardScaler()\n",
    "x_train = sc.fit_transform(x_train)\n",
    "x_test = sc.transform(x_test)"
   ]
  },
  {
   "cell_type": "code",
   "execution_count": null,
   "id": "8b7e8073",
   "metadata": {
    "scrolled": false
   },
   "outputs": [],
   "source": [
    "print(x)"
   ]
  },
  {
   "cell_type": "code",
   "execution_count": null,
   "id": "c8b06b3a",
   "metadata": {
    "scrolled": true
   },
   "outputs": [],
   "source": [
    "print(x_train)"
   ]
  },
  {
   "cell_type": "markdown",
   "id": "f5f830e5",
   "metadata": {},
   "source": [
    "# Over Sampling"
   ]
  },
  {
   "cell_type": "code",
   "execution_count": null,
   "id": "f5b459a5",
   "metadata": {},
   "outputs": [],
   "source": [
    "from imblearn.over_sampling import RandomOverSampler\n",
    "over_sampler = RandomOverSampler(0.75)\n",
    "x_train, y_train = over_sampler.fit_resample(x_train, y_train)"
   ]
  },
  {
   "cell_type": "markdown",
   "id": "6e25645c",
   "metadata": {},
   "source": [
    "# Trees "
   ]
  },
  {
   "cell_type": "code",
   "execution_count": null,
   "id": "7d6eecbc",
   "metadata": {},
   "outputs": [],
   "source": [
    "from sklearn.ensemble import RandomForestClassifier\n",
    "classifier_random_forest = RandomForestClassifier(random_state = 0)\n",
    "classifier_random_forest.fit(x_train, y_train)"
   ]
  },
  {
   "cell_type": "code",
   "execution_count": null,
   "id": "9fc7c7a0",
   "metadata": {},
   "outputs": [],
   "source": [
    "from sklearn.metrics import confusion_matrix, accuracy_score\n",
    "y_pred_random_forest = classifier_random_forest.predict(x_test)\n",
    "\n",
    "\n",
    "cm_random_forest = confusion_matrix(y_test , y_pred_random_forest)\n",
    "print(cm_random_forest)\n",
    "accuracy_score(y_test, y_pred_random_forest)\n"
   ]
  },
  {
   "cell_type": "code",
   "execution_count": null,
   "id": "a688f670",
   "metadata": {
    "scrolled": false
   },
   "outputs": [],
   "source": [
    "from sklearn.tree import DecisionTreeClassifier\n",
    "\n",
    "classifier_d_tree = DecisionTreeClassifier( criterion = 'entropy', random_state = 0, max_depth = None)\n",
    "classifier_d_tree.fit(x_train, y_train)\n",
    "\n",
    "\n",
    "y_pred_d_tree = classifier_d_tree.predict(x_test)\n",
    "\n",
    "\n",
    "cm_d_tree = confusion_matrix(y_test , y_pred_d_tree)\n",
    "print(cm_d_tree)\n",
    "accuracy_score(y_test, y_pred_d_tree)"
   ]
  },
  {
   "cell_type": "markdown",
   "id": "7681519f",
   "metadata": {},
   "source": [
    "# Perceptron (Keras Tuner)"
   ]
  },
  {
   "cell_type": "code",
   "execution_count": null,
   "id": "4572366b",
   "metadata": {},
   "outputs": [],
   "source": [
    "import tensorflow as tf"
   ]
  },
  {
   "cell_type": "code",
   "execution_count": null,
   "id": "f6eb7235",
   "metadata": {},
   "outputs": [],
   "source": [
    "from keras_tuner.tuners import RandomSearch"
   ]
  },
  {
   "cell_type": "code",
   "execution_count": null,
   "id": "f75c53a0",
   "metadata": {},
   "outputs": [],
   "source": [
    "def build_model(hp):\n",
    "    model = tf.keras.Sequential()\n",
    "    for i in range(hp.Int('num_layers', 2, 25)):\n",
    "        model.add(tf.keras.layers.Dense(units=hp.Int('units_' + str(i),\n",
    "                                            min_value=18,\n",
    "                                            max_value=4096,\n",
    "                                            step=32),\n",
    "                               activation='relu'))\n",
    "    model.add(tf.keras.layers.Dense(1, activation='sigmoid'))\n",
    "    model.compile(\n",
    "        optimizer=tf.keras.optimizers.Adam(\n",
    "            hp.Choice('learning_rate', [1e-2, 1e-3, 1e-4])),\n",
    "        loss='binary_crossentropy',\n",
    "        metrics=['accuracy'])\n",
    "    return model"
   ]
  },
  {
   "cell_type": "code",
   "execution_count": null,
   "id": "8df399c9",
   "metadata": {},
   "outputs": [],
   "source": [
    "tuner = RandomSearch(\n",
    "    build_model,\n",
    "    objective='val_accuracy',\n",
    "    max_trials=5,\n",
    "    executions_per_trial=3,\n",
    "    directory='',\n",
    "    project_name='Spam URL1')"
   ]
  },
  {
   "cell_type": "code",
   "execution_count": null,
   "id": "9a85bc05",
   "metadata": {
    "scrolled": true
   },
   "outputs": [],
   "source": [
    "tuner.search_space_summary()"
   ]
  },
  {
   "cell_type": "code",
   "execution_count": null,
   "id": "9701e44d",
   "metadata": {
    "scrolled": true
   },
   "outputs": [],
   "source": [
    "tuner.search(x_train, y_train,\n",
    "             epochs=100,\n",
    "             validation_data=(x_test, y_test))"
   ]
  },
  {
   "cell_type": "code",
   "execution_count": null,
   "id": "fd07888a",
   "metadata": {},
   "outputs": [],
   "source": [
    "tuner.results_summary()"
   ]
  },
  {
   "cell_type": "code",
   "execution_count": null,
   "id": "796b9e4d",
   "metadata": {},
   "outputs": [],
   "source": [
    "ann = tf.keras.models.Sequential()\n",
    "\n",
    "\n",
    "\n",
    "\n",
    "ann.add(tf.keras.layers.Dense(units=512, activation='relu', kernel_initializer = 'he_uniform'))\n",
    "\n",
    "\n",
    "ann.add(tf.keras.layers.Dense(units=256, activation='relu', kernel_initializer = 'he_uniform'))\n",
    "\n",
    "\n",
    "ann.add(tf.keras.layers.Dense(units=128, activation='relu', kernel_initializer = 'he_uniform' ))\n",
    "\n",
    "\n",
    "ann.add(tf.keras.layers.Dense(units=32, activation='relu', kernel_initializer = 'he_uniform'  ))\n",
    "\n",
    "\n",
    "ann.add(tf.keras.layers.Dense(units=16, activation='relu', kernel_initializer = 'he_uniform'  ))\n",
    "\n",
    "ann.add(tf.keras.layers.Dense(units=2, activation='relu', kernel_initializer = 'he_uniform'  ))"
   ]
  },
  {
   "cell_type": "code",
   "execution_count": null,
   "id": "30ab47c4",
   "metadata": {},
   "outputs": [],
   "source": [
    "ann.add(tf.keras.layers.Dense(units=1, activation='sigmoid'))"
   ]
  },
  {
   "cell_type": "code",
   "execution_count": null,
   "id": "94788938",
   "metadata": {},
   "outputs": [],
   "source": [
    "ann.compile(optimizer = 'adamax', loss = 'binary_crossentropy', metrics = ['accuracy'])"
   ]
  },
  {
   "cell_type": "code",
   "execution_count": null,
   "id": "124ded2c",
   "metadata": {
    "scrolled": true
   },
   "outputs": [],
   "source": [
    "history_ann = ann.fit(x_train, y_train, epochs = 50, batch_size = 64 , validation_split=0.2, verbose=1)"
   ]
  },
  {
   "cell_type": "code",
   "execution_count": null,
   "id": "8b9c4a9a",
   "metadata": {
    "scrolled": false
   },
   "outputs": [],
   "source": [
    "plot_history(history_ann)"
   ]
  },
  {
   "cell_type": "code",
   "execution_count": null,
   "id": "b51c6492",
   "metadata": {},
   "outputs": [],
   "source": [
    "plot_history2(history_ann)"
   ]
  },
  {
   "cell_type": "code",
   "execution_count": null,
   "id": "56a2afb0",
   "metadata": {},
   "outputs": [],
   "source": [
    "y_pred_ann = ann.predict(x_test)\n",
    "y_pred_ann = (y_pred_ann > 0.5)\n",
    "print(y_pred_ann)\n",
    "\n",
    "cm_ann = confusion_matrix(y_test, y_pred_ann)\n",
    "print(cm_ann)\n",
    "accuracy_score(y_test,  y_pred_ann)"
   ]
  },
  {
   "cell_type": "markdown",
   "id": "37c14e19",
   "metadata": {},
   "source": [
    "# Conv1D"
   ]
  },
  {
   "cell_type": "markdown",
   "id": "c8dabf5d",
   "metadata": {},
   "source": [
    "### Reshape dataset for CNN"
   ]
  },
  {
   "cell_type": "code",
   "execution_count": null,
   "id": "3b3d3108",
   "metadata": {},
   "outputs": [],
   "source": [
    "x_train_reshaped = x_train.reshape(x_train.shape[0],x_train.shape[1],1)\n",
    "x_test_reshaped = x_test.reshape(x_test.shape[0],x_test.shape[1],1)\n",
    "n_timesteps = x_train_reshaped.shape[1]\n",
    "n_features  = x_train_reshaped.shape[2]"
   ]
  },
  {
   "cell_type": "code",
   "execution_count": null,
   "id": "7d638498",
   "metadata": {},
   "outputs": [],
   "source": [
    "cnn = tf.keras.models.Sequential()\n",
    "cnn.add(tf.keras.layers.Input(shape=(n_timesteps,n_features)))\n",
    "cnn.add(tf.keras.layers.Conv1D( 128, kernel_size=2, activation='relu'))\n",
    "cnn.add(tf.keras.layers.MaxPool1D(pool_size=2, strides=2))\n",
    "\n",
    "cnn.add(tf.keras.layers.Conv1D( 64, kernel_size=2, activation='relu'))\n",
    "cnn.add(tf.keras.layers.MaxPool1D(pool_size=2, strides=2))\n",
    "\n",
    "cnn.add(tf.keras.layers.Conv1D( 64, kernel_size=2, activation='relu'))\n",
    "cnn.add(tf.keras.layers.MaxPool1D(pool_size=2, strides=2))\n",
    "\n",
    "cnn.add(tf.keras.layers.Flatten())\n",
    "\n",
    "cnn.add(tf.keras.layers.Dense(units=3471, activation='relu'))\n",
    "cnn.add(tf.keras.layers.BatchNormalization())\n",
    "cnn.add(tf.keras.layers.Dropout(.5))\n",
    "\n",
    "cnn.add(tf.keras.layers.Dense(units=847, activation='relu'))\n",
    "cnn.add(tf.keras.layers.BatchNormalization())\n",
    "cnn.add(tf.keras.layers.Dropout(.5))\n",
    "\n",
    "cnn.add(tf.keras.layers.Dense(units=847, activation='relu'))\n",
    "cnn.add(tf.keras.layers.BatchNormalization())\n",
    "cnn.add(tf.keras.layers.Dropout(.5))\n",
    "\n",
    "cnn.add(tf.keras.layers.Dense(units=521, activation='relu'))\n",
    "cnn.add(tf.keras.layers.BatchNormalization())\n",
    "cnn.add(tf.keras.layers.Dropout(.5))\n",
    "\n",
    "cnn.add(tf.keras.layers.Dense(units=1, activation='sigmoid'))"
   ]
  },
  {
   "cell_type": "code",
   "execution_count": null,
   "id": "cfa8bfe1",
   "metadata": {},
   "outputs": [],
   "source": [
    "cnn.compile(optimizer = 'adamax', loss = 'binary_crossentropy', metrics = ['accuracy'] )"
   ]
  },
  {
   "cell_type": "code",
   "execution_count": null,
   "id": "4ae27910",
   "metadata": {
    "scrolled": true
   },
   "outputs": [],
   "source": [
    "history = cnn.fit(x_train_reshaped, y_train, epochs = 10, batch_size = 64 , validation_split=0.2, verbose=1)"
   ]
  },
  {
   "cell_type": "code",
   "execution_count": null,
   "id": "cda2b408",
   "metadata": {},
   "outputs": [],
   "source": [
    "plot_history(history)"
   ]
  },
  {
   "cell_type": "code",
   "execution_count": null,
   "id": "34a06d54",
   "metadata": {
    "scrolled": true
   },
   "outputs": [],
   "source": [
    "y_pred_cnn = cnn.predict(x_test)\n",
    "y_pred_cnn = (y_pred_cnn > 0.5)\n",
    "print(y_pred_cnn)\n",
    "\n",
    "cm_Conv1D = confusion_matrix(y_test, y_pred_cnn)\n",
    "print(cm_Conv1D)\n",
    "accuracy_score(y_test,  y_pred_cnn)"
   ]
  },
  {
   "cell_type": "code",
   "execution_count": null,
   "id": "43b46f3a",
   "metadata": {
    "scrolled": true
   },
   "outputs": [],
   "source": [
    "from sklearn.metrics import classification_report\n",
    "print (classification_report(y_test, y_pred_cnn))"
   ]
  },
  {
   "cell_type": "markdown",
   "id": "e4848201",
   "metadata": {},
   "source": [
    "# Logistic Regression "
   ]
  },
  {
   "cell_type": "code",
   "execution_count": null,
   "id": "6c6a16ab",
   "metadata": {},
   "outputs": [],
   "source": [
    "from sklearn.linear_model import LogisticRegression\n",
    "classifier_logistic = LogisticRegression(random_state = 10)\n",
    "classifier_logistic.fit(x_train, y_train)\n",
    "\n",
    "\n",
    "from sklearn.model_selection import GridSearchCV\n",
    "\n",
    "y_predict = classifier_logistic.predict(x_test)\n",
    "\n",
    "\n",
    "from sklearn.metrics import confusion_matrix, accuracy_score\n",
    "cm = confusion_matrix(y_test , y_predict)\n",
    "print(cm)\n",
    "accuracy_score(y_test, y_predict)"
   ]
  },
  {
   "cell_type": "markdown",
   "id": "fa9beb38",
   "metadata": {},
   "source": [
    "# KNN"
   ]
  },
  {
   "cell_type": "code",
   "execution_count": null,
   "id": "51ce4f40",
   "metadata": {},
   "outputs": [],
   "source": [
    "from sklearn.neighbors import KNeighborsClassifier\n",
    "classifier_knn = KNeighborsClassifier(n_neighbors = 9, metric = 'minkowski', p = 2)\n",
    "classifier_knn.fit(x_train, y_train)\n",
    "\n",
    "\n",
    "y_pred_knn = classifier_knn.predict(x_test)\n",
    "\n",
    "\n",
    "cm_knn = confusion_matrix(y_test , y_pred_knn)\n",
    "print(cm_knn)\n",
    "accuracy_score(y_test, y_pred_knn)"
   ]
  },
  {
   "cell_type": "markdown",
   "id": "685ff160",
   "metadata": {},
   "source": [
    "# Gaussian NB"
   ]
  },
  {
   "cell_type": "code",
   "execution_count": null,
   "id": "df79643e",
   "metadata": {},
   "outputs": [],
   "source": [
    "from sklearn.naive_bayes import GaussianNB\n",
    "classifier_NB = GaussianNB()\n",
    "classifier_NB.fit(x_train, y_train)\n",
    "\n",
    "y_pred_NB = classifier_NB.predict(x_test)\n",
    "\n",
    "cm_NB = confusion_matrix(y_test, y_pred_NB)\n",
    "print(cm_NB)\n",
    "accuracy_score(y_test, y_pred_NB)"
   ]
  },
  {
   "cell_type": "markdown",
   "id": "5f0f35f2",
   "metadata": {},
   "source": [
    "# XGBoost"
   ]
  },
  {
   "cell_type": "code",
   "execution_count": null,
   "id": "a9d8bed6",
   "metadata": {},
   "outputs": [],
   "source": [
    "from xgboost import XGBClassifier\n",
    "classifier_XGB = XGBClassifier()\n",
    "classifier_XGB.fit(x_train, y_train)\n",
    "\n",
    "y_pred_XGB = classifier_XGB.predict(x_test)\n",
    "cm_XGB = confusion_matrix(y_test, y_pred_XGB)\n",
    "print(cm_XGB)\n",
    "accuracy_score(y_test, y_pred_XGB)"
   ]
  }
 ],
 "metadata": {
  "kernelspec": {
   "display_name": "Python 3 (ipykernel)",
   "language": "python",
   "name": "python3"
  },
  "language_info": {
   "codemirror_mode": {
    "name": "ipython",
    "version": 3
   },
   "file_extension": ".py",
   "mimetype": "text/x-python",
   "name": "python",
   "nbconvert_exporter": "python",
   "pygments_lexer": "ipython3",
   "version": "3.9.7"
  }
 },
 "nbformat": 4,
 "nbformat_minor": 5
}
